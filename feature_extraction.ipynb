{
 "cells": [
  {
   "cell_type": "code",
   "execution_count": 1,
   "metadata": {},
   "outputs": [],
   "source": [
    "import pandas as pd\n",
    "from scipy.signal import welch\n",
    "import numpy as np"
   ]
  },
  {
   "cell_type": "code",
   "execution_count": 2,
   "metadata": {},
   "outputs": [],
   "source": [
    "# Function to calculate Power Spectral Density (PSD)\n",
    "def calculate_psd(data, fs):\n",
    "    freqs, psd = welch(data, fs, nperseg=256)\n",
    "    return freqs, psd\n",
    "\n",
    "# Function to extract features from the EEG data\n",
    "def extract_features(data, fs):\n",
    "    features = []\n",
    "    for channel in data.T:  # Transpose to iterate over channels\n",
    "        freqs, psd = calculate_psd(channel, fs)\n",
    "        log_psd = np.log(psd)  # Use log of PSD values as features\n",
    "        features.append(log_psd)\n",
    "    return np.array(features).flatten()"
   ]
  },
  {
   "cell_type": "code",
   "execution_count": 5,
   "metadata": {},
   "outputs": [
    {
     "name": "stdout",
     "output_type": "stream",
     "text": [
      "CSV file loaded successfully.\n",
      "Data shape before slicing: (12847, 33)\n",
      "Sample data:\n",
      "    0             1             2             3             4             5   \\\n",
      "0  0.0  -5106.010152   8767.181190   9096.020054  -7729.859081   9720.572498   \n",
      "1  2.0 -10167.719146  17567.755886  18190.877818 -15416.378130  19453.371400   \n",
      "2  4.0 -10184.862934  17563.441999  18208.938027 -15426.905802  19472.750362   \n",
      "3  6.0 -10196.374082  17545.471197  18206.188763 -15447.938794  19470.314022   \n",
      "4  8.0 -10142.305212  17595.472049  18217.118766 -15393.199371  19495.236217   \n",
      "\n",
      "             6            7             8             9   ...    23    24  \\\n",
      "0   5243.473380 -4647.866446   9843.216520 -36814.686574  ...  14.0  64.0   \n",
      "1  10514.126481 -9379.484878  19680.934510 -16730.727760  ...   0.0   0.0   \n",
      "2  10517.099263 -9330.780426  19691.372775 -16730.683056  ...   0.0   0.0   \n",
      "3  10489.092528 -8804.441548  19690.545760 -16741.143673  ...   0.0   0.0   \n",
      "4  10538.467531 -9017.632487  19695.284330 -16747.580975  ...  14.0  72.0   \n",
      "\n",
      "    25     26   27   28   29            30   31                        32  \n",
      "0  3.0  112.0  0.0  0.0  0.0  1.717599e+09  0.0   2024-06-05 17:43:40.367  \n",
      "1  0.0    0.0  0.0  0.0  0.0  1.717599e+09  0.0   2024-06-05 17:43:40.373  \n",
      "2  0.0    0.0  0.0  0.0  0.0  1.717599e+09  0.0   2024-06-05 17:43:40.381  \n",
      "3  0.0    0.0  0.0  0.0  0.0  1.717599e+09  0.0   2024-06-05 17:43:40.389  \n",
      "4  3.0  112.0  0.0  0.0  0.0  1.717599e+09  0.0   2024-06-05 17:43:40.397  \n",
      "\n",
      "[5 rows x 33 columns]\n"
     ]
    }
   ],
   "source": [
    "# Load the CSV file without headers with tab delimiter\n",
    "openbci_data_path = 'plot1.csv'\n",
    "try:\n",
    "    data = pd.read_csv(openbci_data_path, header=None)\n",
    "    print(\"CSV file loaded successfully.\")\n",
    "    print(\"Data shape before slicing:\", data.shape)\n",
    "    print(\"Sample data:\")\n",
    "    print(data.head())\n",
    "except FileNotFoundError:\n",
    "    print(\"CSV file not found. Please check the file path.\")\n",
    "    exit()\n",
    "except ValueError as ve:\n",
    "    print(f\"Error reading CSV file: {ve}\")\n",
    "    exit()"
   ]
  },
  {
   "cell_type": "code",
   "execution_count": 6,
   "metadata": {},
   "outputs": [
    {
     "name": "stdout",
     "output_type": "stream",
     "text": [
      "Data shape after dropping timer and selecting 8 columns: (12847, 8)\n"
     ]
    }
   ],
   "source": [
    "# Drop the first column (timer) and select the next 8 columns\n",
    "data = data.iloc[:, 1:9]\n",
    "print(\"Data shape after dropping timer and selecting 8 columns:\", data.shape)"
   ]
  },
  {
   "cell_type": "code",
   "execution_count": 7,
   "metadata": {},
   "outputs": [
    {
     "name": "stdout",
     "output_type": "stream",
     "text": [
      "Extracted Features Shape: (1032,)\n",
      "Extracted Features (first 10): [ 9.25969213 10.98823361  9.61072708  8.38706784  7.87434498  7.64963793\n",
      "  7.22012303  6.84450762  6.52081998  6.29428484]\n"
     ]
    }
   ],
   "source": [
    "# Filter parameters\n",
    "fs = 250  # Sampling frequency\n",
    "\n",
    "# Extract features\n",
    "features = extract_features(data.values, fs)\n",
    "print(\"Extracted Features Shape:\", features.shape)\n",
    "print(\"Extracted Features (first 10):\", features[:10])"
   ]
  }
 ],
 "metadata": {
  "kernelspec": {
   "display_name": "Python 3",
   "language": "python",
   "name": "python3"
  },
  "language_info": {
   "codemirror_mode": {
    "name": "ipython",
    "version": 3
   },
   "file_extension": ".py",
   "mimetype": "text/x-python",
   "name": "python",
   "nbconvert_exporter": "python",
   "pygments_lexer": "ipython3",
   "version": "3.12.3"
  }
 },
 "nbformat": 4,
 "nbformat_minor": 2
}
